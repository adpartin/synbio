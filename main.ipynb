{
 "cells": [
  {
   "cell_type": "markdown",
   "metadata": {},
   "source": [
    "Load RNA-Seq of the first set of sequenced samples and look at the data."
   ]
  },
  {
   "cell_type": "code",
   "execution_count": 1,
   "metadata": {},
   "outputs": [],
   "source": [
    "import os\n",
    "import sys\n",
    "from pathlib import Path\n",
    "\n",
    "import sklearn\n",
    "import numpy as np\n",
    "import pandas as pd"
   ]
  },
  {
   "cell_type": "code",
   "execution_count": 2,
   "metadata": {},
   "outputs": [
    {
     "name": "stdout",
     "output_type": "stream",
     "text": [
      "/Users/apartin/Dropbox/work/synbio\n"
     ]
    }
   ],
   "source": [
    "filepath = Path.cwd()\n",
    "print(filepath)"
   ]
  },
  {
   "cell_type": "code",
   "execution_count": 3,
   "metadata": {},
   "outputs": [
    {
     "name": "stdout",
     "output_type": "stream",
     "text": [
      "df.shape (4549, 11)\n"
     ]
    }
   ],
   "source": [
    "df = pd.read_csv(filepath/'cols.tbl.csv')\n",
    "print('df.shape', df.shape)"
   ]
  },
  {
   "cell_type": "code",
   "execution_count": 4,
   "metadata": {},
   "outputs": [
    {
     "data": {
      "text/html": [
       "<div>\n",
       "<style scoped>\n",
       "    .dataframe tbody tr th:only-of-type {\n",
       "        vertical-align: middle;\n",
       "    }\n",
       "\n",
       "    .dataframe tbody tr th {\n",
       "        vertical-align: top;\n",
       "    }\n",
       "\n",
       "    .dataframe thead th {\n",
       "        text-align: right;\n",
       "    }\n",
       "</style>\n",
       "<table border=\"1\" class=\"dataframe\">\n",
       "  <thead>\n",
       "    <tr style=\"text-align: right;\">\n",
       "      <th></th>\n",
       "      <th>patric_id</th>\n",
       "      <th>feature.gene_id</th>\n",
       "      <th>feature.product</th>\n",
       "      <th>77F</th>\n",
       "      <th>77M</th>\n",
       "      <th>78F</th>\n",
       "      <th>78M</th>\n",
       "      <th>530F</th>\n",
       "      <th>530M</th>\n",
       "      <th>MG1655F</th>\n",
       "      <th>MG1655F.1</th>\n",
       "    </tr>\n",
       "  </thead>\n",
       "  <tbody>\n",
       "    <tr>\n",
       "      <th>0</th>\n",
       "      <td>fig|511145.12.peg.21</td>\n",
       "      <td>949128</td>\n",
       "      <td>Uncharacterized protein YaaY</td>\n",
       "      <td>0.0</td>\n",
       "      <td>7.36507</td>\n",
       "      <td>39.7243</td>\n",
       "      <td>16.1571</td>\n",
       "      <td>25.7253</td>\n",
       "      <td>43.2832</td>\n",
       "      <td>15.4865</td>\n",
       "      <td>0.0</td>\n",
       "    </tr>\n",
       "    <tr>\n",
       "      <th>1</th>\n",
       "      <td>fig|511145.12.peg.29</td>\n",
       "      <td>0</td>\n",
       "      <td>hypothetical protein</td>\n",
       "      <td>0.0</td>\n",
       "      <td>0.00000</td>\n",
       "      <td>0.0000</td>\n",
       "      <td>0.0000</td>\n",
       "      <td>0.0000</td>\n",
       "      <td>0.0000</td>\n",
       "      <td>0.0000</td>\n",
       "      <td>0.0</td>\n",
       "    </tr>\n",
       "  </tbody>\n",
       "</table>\n",
       "</div>"
      ],
      "text/plain": [
       "              patric_id  feature.gene_id               feature.product  77F  \\\n",
       "0  fig|511145.12.peg.21           949128  Uncharacterized protein YaaY  0.0   \n",
       "1  fig|511145.12.peg.29                0          hypothetical protein  0.0   \n",
       "\n",
       "       77M      78F      78M     530F     530M  MG1655F  MG1655F.1  \n",
       "0  7.36507  39.7243  16.1571  25.7253  43.2832  15.4865        0.0  \n",
       "1  0.00000   0.0000   0.0000   0.0000   0.0000   0.0000        0.0  "
      ]
     },
     "execution_count": 4,
     "metadata": {},
     "output_type": "execute_result"
    }
   ],
   "source": [
    "# Note that 926F, 926M became MG1655F, MG1655F.1\n",
    "df = df[['patric_id', 'feature.gene_id', 'feature.product',\n",
    "         '77F', '77M', '78F', '78M', '530F', '530M',\n",
    "         'MG1655F', 'MG1655F.1']]\n",
    "df[:2]"
   ]
  },
  {
   "cell_type": "code",
   "execution_count": 5,
   "metadata": {},
   "outputs": [
    {
     "data": {
      "text/html": [
       "<div>\n",
       "<style scoped>\n",
       "    .dataframe tbody tr th:only-of-type {\n",
       "        vertical-align: middle;\n",
       "    }\n",
       "\n",
       "    .dataframe tbody tr th {\n",
       "        vertical-align: top;\n",
       "    }\n",
       "\n",
       "    .dataframe thead th {\n",
       "        text-align: right;\n",
       "    }\n",
       "</style>\n",
       "<table border=\"1\" class=\"dataframe\">\n",
       "  <thead>\n",
       "    <tr style=\"text-align: right;\">\n",
       "      <th></th>\n",
       "      <th>patric_id</th>\n",
       "      <th>feature.gene_id</th>\n",
       "      <th>feature.product</th>\n",
       "      <th>77F</th>\n",
       "      <th>77M</th>\n",
       "      <th>78F</th>\n",
       "      <th>78M</th>\n",
       "      <th>530F</th>\n",
       "      <th>530M</th>\n",
       "      <th>MG1655F</th>\n",
       "      <th>MG1655F.1</th>\n",
       "    </tr>\n",
       "  </thead>\n",
       "  <tbody>\n",
       "    <tr>\n",
       "      <th>0</th>\n",
       "      <td>fig|511145.12.peg.21</td>\n",
       "      <td>949128</td>\n",
       "      <td>Uncharacterized protein YaaY</td>\n",
       "      <td>0.0000</td>\n",
       "      <td>7.36507</td>\n",
       "      <td>39.72430</td>\n",
       "      <td>16.157100</td>\n",
       "      <td>25.725300</td>\n",
       "      <td>43.28320</td>\n",
       "      <td>15.48650</td>\n",
       "      <td>0.0</td>\n",
       "    </tr>\n",
       "    <tr>\n",
       "      <th>1</th>\n",
       "      <td>fig|511145.12.peg.46</td>\n",
       "      <td>944766</td>\n",
       "      <td>Putative metabolite transport protein YaaU</td>\n",
       "      <td>1.4637</td>\n",
       "      <td>1.73000</td>\n",
       "      <td>3.24929</td>\n",
       "      <td>0.936668</td>\n",
       "      <td>0.562224</td>\n",
       "      <td>3.58935</td>\n",
       "      <td>3.33065</td>\n",
       "      <td>0.0</td>\n",
       "    </tr>\n",
       "  </tbody>\n",
       "</table>\n",
       "</div>"
      ],
      "text/plain": [
       "              patric_id  feature.gene_id  \\\n",
       "0  fig|511145.12.peg.21           949128   \n",
       "1  fig|511145.12.peg.46           944766   \n",
       "\n",
       "                              feature.product     77F      77M       78F  \\\n",
       "0                Uncharacterized protein YaaY  0.0000  7.36507  39.72430   \n",
       "1  Putative metabolite transport protein YaaU  1.4637  1.73000   3.24929   \n",
       "\n",
       "         78M       530F      530M   MG1655F  MG1655F.1  \n",
       "0  16.157100  25.725300  43.28320  15.48650        0.0  \n",
       "1   0.936668   0.562224   3.58935   3.33065        0.0  "
      ]
     },
     "execution_count": 5,
     "metadata": {},
     "output_type": "execute_result"
    }
   ],
   "source": [
    "# Drop low expression genes\n",
    "idx = df.iloc[:,3:].sum(axis=1) < 1e-5\n",
    "df = df.loc[~idx,:].reset_index(drop=True)\n",
    "df[:2]"
   ]
  },
  {
   "cell_type": "code",
   "execution_count": 6,
   "metadata": {},
   "outputs": [],
   "source": [
    "df = df.drop(columns=['patric_id', 'feature.gene_id'])"
   ]
  },
  {
   "cell_type": "code",
   "execution_count": 7,
   "metadata": {},
   "outputs": [],
   "source": [
    "df1 = df.set_index('feature.product').T\n",
    "df1.columns.name = None\n",
    "df1 = df1.reset_index().rename(columns={'index': 'sample'})"
   ]
  },
  {
   "cell_type": "code",
   "execution_count": 8,
   "metadata": {},
   "outputs": [
    {
     "name": "stdout",
     "output_type": "stream",
     "text": [
      "37736.3\n",
      "0.0\n"
     ]
    }
   ],
   "source": [
    "print(df1.iloc[:,1:].values.max())\n",
    "print(df1.iloc[:,1:].values.min())"
   ]
  },
  {
   "cell_type": "code",
   "execution_count": 9,
   "metadata": {},
   "outputs": [
    {
     "name": "stderr",
     "output_type": "stream",
     "text": [
      "/Users/apartin/anaconda3/envs/cell-drug-sens/lib/python3.6/site-packages/ipykernel_launcher.py:2: RuntimeWarning: divide by zero encountered in log2\n",
      "  \n"
     ]
    }
   ],
   "source": [
    "# Log2 the values\n",
    "df1 = np.log2( df1.iloc[:,1:] )"
   ]
  },
  {
   "cell_type": "code",
   "execution_count": 10,
   "metadata": {},
   "outputs": [
    {
     "name": "stdout",
     "output_type": "stream",
     "text": [
      "15.203665354863704\n",
      "-inf\n"
     ]
    }
   ],
   "source": [
    "print(df1.values.max())\n",
    "print(df1.values.min())"
   ]
  },
  {
   "cell_type": "code",
   "execution_count": 11,
   "metadata": {},
   "outputs": [],
   "source": [
    "df1 = df1.applymap(lambda x: 0 if x < 0 else x)"
   ]
  },
  {
   "cell_type": "code",
   "execution_count": null,
   "metadata": {},
   "outputs": [],
   "source": []
  },
  {
   "cell_type": "markdown",
   "metadata": {},
   "source": [
    "# PCA plots"
   ]
  },
  {
   "cell_type": "code",
   "execution_count": 12,
   "metadata": {},
   "outputs": [
    {
     "name": "stderr",
     "output_type": "stream",
     "text": [
      "Using TensorFlow backend.\n"
     ]
    }
   ],
   "source": [
    "sys.path.append('../pilot1/utils_py')\n",
    "import utils_all"
   ]
  },
  {
   "cell_type": "code",
   "execution_count": 13,
   "metadata": {},
   "outputs": [],
   "source": [
    "color_vector = np.array(['77','77', '78','78', '530','530', 'MG1655', 'MG1655'])"
   ]
  },
  {
   "cell_type": "code",
   "execution_count": 14,
   "metadata": {},
   "outputs": [
    {
     "name": "stdout",
     "output_type": "stream",
     "text": [
      "Explained variance by PCA components [1, 2]:  [0.37034, 0.20017]\n"
     ]
    },
    {
     "data": {
      "image/png": "[encoded data removed]",
      "text/plain": [
       "<Figure size 576x360 with 1 Axes>"
      ]
     },
     "metadata": {
      "needs_background": "light"
     },
     "output_type": "display_data"
    }
   ],
   "source": [
    "pca = utils_all.plot_pca(df1.iloc[:,1:], components=[1,2],\n",
    "                         color_vector=color_vector, to_scale=True, verbose=True)"
   ]
  },
  {
   "cell_type": "code",
   "execution_count": 15,
   "metadata": {},
   "outputs": [
    {
     "name": "stdout",
     "output_type": "stream",
     "text": [
      "Explained variance by PCA components [1, 3]:  [0.37034, 0.16252]\n"
     ]
    },
    {
     "data": {
      "image/png": "[encoded data removed]",
      "text/plain": [
       "<Figure size 576x360 with 1 Axes>"
      ]
     },
     "metadata": {
      "needs_background": "light"
     },
     "output_type": "display_data"
    }
   ],
   "source": [
    "pca = utils_all.plot_pca(df1.iloc[:,1:], components=[1,3],\n",
    "                         color_vector=color_vector, to_scale=True, verbose=True)"
   ]
  },
  {
   "cell_type": "code",
   "execution_count": 16,
   "metadata": {},
   "outputs": [
    {
     "name": "stdout",
     "output_type": "stream",
     "text": [
      "Explained variance by PCA components [2, 3]:  [0.20017, 0.16252]\n"
     ]
    },
    {
     "data": {
      "image/png": "[encoded data removed]",
      "text/plain": [
       "<Figure size 576x360 with 1 Axes>"
      ]
     },
     "metadata": {
      "needs_background": "light"
     },
     "output_type": "display_data"
    }
   ],
   "source": [
    "pca = utils_all.plot_pca(df1.iloc[:,1:], components=[2,3],\n",
    "                         color_vector=color_vector, to_scale=True, verbose=True)"
   ]
  },
  {
   "cell_type": "code",
   "execution_count": null,
   "metadata": {},
   "outputs": [],
   "source": []
  },
  {
   "cell_type": "markdown",
   "metadata": {},
   "source": [
    "# Compare RNA-Seq values with other samples"
   ]
  },
  {
   "cell_type": "code",
   "execution_count": 17,
   "metadata": {},
   "outputs": [
    {
     "name": "stdout",
     "output_type": "stream",
     "text": [
      "\n",
      "Dataset: combined_rnaseq_data_lincs1000\n",
      "df_rna (15196, 943)\n",
      "meta   (15196, 20)\n",
      "GDC       11081\n",
      "NCIPDM     1198\n",
      "CCLE       1018\n",
      "CTRP        812\n",
      "GDSC        670\n",
      "gCSI        357\n",
      "NCI60        60\n",
      "Name: Sample, dtype: int64\n"
     ]
    }
   ],
   "source": [
    "lincs = utils_all.CombinedRNASeqLINCS(dataset='raw')"
   ]
  },
  {
   "cell_type": "code",
   "execution_count": 18,
   "metadata": {},
   "outputs": [],
   "source": [
    "rna = lincs._df_rna\n",
    "meta = lincs._meta"
   ]
  },
  {
   "cell_type": "code",
   "execution_count": 20,
   "metadata": {},
   "outputs": [
    {
     "data": {
      "text/html": [
       "<div>\n",
       "<style scoped>\n",
       "    .dataframe tbody tr th:only-of-type {\n",
       "        vertical-align: middle;\n",
       "    }\n",
       "\n",
       "    .dataframe tbody tr th {\n",
       "        vertical-align: top;\n",
       "    }\n",
       "\n",
       "    .dataframe thead th {\n",
       "        text-align: right;\n",
       "    }\n",
       "</style>\n",
       "<table border=\"1\" class=\"dataframe\">\n",
       "  <thead>\n",
       "    <tr style=\"text-align: right;\">\n",
       "      <th></th>\n",
       "      <th>Sample</th>\n",
       "      <th>AARS</th>\n",
       "      <th>ABCB6</th>\n",
       "      <th>ABCC5</th>\n",
       "      <th>ABCF1</th>\n",
       "      <th>ABCF3</th>\n",
       "      <th>ABHD4</th>\n",
       "      <th>ABHD6</th>\n",
       "      <th>ABL1</th>\n",
       "      <th>ACAA1</th>\n",
       "      <th>...</th>\n",
       "      <th>ZMIZ1</th>\n",
       "      <th>ZMYM2</th>\n",
       "      <th>ZNF131</th>\n",
       "      <th>ZNF274</th>\n",
       "      <th>ZNF318</th>\n",
       "      <th>ZNF395</th>\n",
       "      <th>ZNF451</th>\n",
       "      <th>ZNF586</th>\n",
       "      <th>ZNF589</th>\n",
       "      <th>ZW10</th>\n",
       "    </tr>\n",
       "  </thead>\n",
       "  <tbody>\n",
       "    <tr>\n",
       "      <th>0</th>\n",
       "      <td>CCLE.22RV1</td>\n",
       "      <td>8.31</td>\n",
       "      <td>7.17</td>\n",
       "      <td>4.12</td>\n",
       "      <td>5.64</td>\n",
       "      <td>6.04</td>\n",
       "      <td>3.94</td>\n",
       "      <td>2.08</td>\n",
       "      <td>5.24</td>\n",
       "      <td>5.23</td>\n",
       "      <td>...</td>\n",
       "      <td>3.22</td>\n",
       "      <td>4.85</td>\n",
       "      <td>4.46</td>\n",
       "      <td>3.98</td>\n",
       "      <td>4.77</td>\n",
       "      <td>1.58</td>\n",
       "      <td>3.90</td>\n",
       "      <td>4.19</td>\n",
       "      <td>3.88</td>\n",
       "      <td>5.37</td>\n",
       "    </tr>\n",
       "    <tr>\n",
       "      <th>1</th>\n",
       "      <td>CCLE.2313287</td>\n",
       "      <td>8.94</td>\n",
       "      <td>6.30</td>\n",
       "      <td>3.83</td>\n",
       "      <td>6.60</td>\n",
       "      <td>5.99</td>\n",
       "      <td>6.34</td>\n",
       "      <td>3.72</td>\n",
       "      <td>4.67</td>\n",
       "      <td>5.78</td>\n",
       "      <td>...</td>\n",
       "      <td>3.86</td>\n",
       "      <td>4.80</td>\n",
       "      <td>4.72</td>\n",
       "      <td>4.13</td>\n",
       "      <td>4.03</td>\n",
       "      <td>1.00</td>\n",
       "      <td>3.97</td>\n",
       "      <td>3.82</td>\n",
       "      <td>3.78</td>\n",
       "      <td>5.49</td>\n",
       "    </tr>\n",
       "    <tr>\n",
       "      <th>2</th>\n",
       "      <td>CCLE.253J</td>\n",
       "      <td>7.58</td>\n",
       "      <td>6.53</td>\n",
       "      <td>3.59</td>\n",
       "      <td>5.94</td>\n",
       "      <td>5.77</td>\n",
       "      <td>5.93</td>\n",
       "      <td>2.35</td>\n",
       "      <td>4.84</td>\n",
       "      <td>4.50</td>\n",
       "      <td>...</td>\n",
       "      <td>3.22</td>\n",
       "      <td>3.61</td>\n",
       "      <td>3.80</td>\n",
       "      <td>4.31</td>\n",
       "      <td>3.20</td>\n",
       "      <td>0.60</td>\n",
       "      <td>2.11</td>\n",
       "      <td>2.69</td>\n",
       "      <td>1.97</td>\n",
       "      <td>3.69</td>\n",
       "    </tr>\n",
       "    <tr>\n",
       "      <th>3</th>\n",
       "      <td>CCLE.253JBV</td>\n",
       "      <td>7.79</td>\n",
       "      <td>6.01</td>\n",
       "      <td>4.05</td>\n",
       "      <td>6.44</td>\n",
       "      <td>5.97</td>\n",
       "      <td>5.58</td>\n",
       "      <td>2.89</td>\n",
       "      <td>5.09</td>\n",
       "      <td>4.39</td>\n",
       "      <td>...</td>\n",
       "      <td>3.74</td>\n",
       "      <td>3.81</td>\n",
       "      <td>3.99</td>\n",
       "      <td>4.21</td>\n",
       "      <td>3.93</td>\n",
       "      <td>0.98</td>\n",
       "      <td>2.24</td>\n",
       "      <td>2.47</td>\n",
       "      <td>2.60</td>\n",
       "      <td>4.14</td>\n",
       "    </tr>\n",
       "    <tr>\n",
       "      <th>4</th>\n",
       "      <td>CCLE.42MGBA</td>\n",
       "      <td>7.84</td>\n",
       "      <td>6.72</td>\n",
       "      <td>3.09</td>\n",
       "      <td>6.92</td>\n",
       "      <td>5.43</td>\n",
       "      <td>5.38</td>\n",
       "      <td>3.99</td>\n",
       "      <td>5.85</td>\n",
       "      <td>5.17</td>\n",
       "      <td>...</td>\n",
       "      <td>5.48</td>\n",
       "      <td>3.04</td>\n",
       "      <td>4.95</td>\n",
       "      <td>4.79</td>\n",
       "      <td>3.52</td>\n",
       "      <td>1.24</td>\n",
       "      <td>3.08</td>\n",
       "      <td>2.44</td>\n",
       "      <td>2.10</td>\n",
       "      <td>5.65</td>\n",
       "    </tr>\n",
       "  </tbody>\n",
       "</table>\n",
       "<p>5 rows × 943 columns</p>\n",
       "</div>"
      ],
      "text/plain": [
       "         Sample  AARS  ABCB6  ABCC5  ABCF1  ABCF3  ABHD4  ABHD6  ABL1  ACAA1  \\\n",
       "0    CCLE.22RV1  8.31   7.17   4.12   5.64   6.04   3.94   2.08  5.24   5.23   \n",
       "1  CCLE.2313287  8.94   6.30   3.83   6.60   5.99   6.34   3.72  4.67   5.78   \n",
       "2     CCLE.253J  7.58   6.53   3.59   5.94   5.77   5.93   2.35  4.84   4.50   \n",
       "3   CCLE.253JBV  7.79   6.01   4.05   6.44   5.97   5.58   2.89  5.09   4.39   \n",
       "4   CCLE.42MGBA  7.84   6.72   3.09   6.92   5.43   5.38   3.99  5.85   5.17   \n",
       "\n",
       "   ...   ZMIZ1  ZMYM2  ZNF131  ZNF274  ZNF318  ZNF395  ZNF451  ZNF586  ZNF589  \\\n",
       "0  ...    3.22   4.85    4.46    3.98    4.77    1.58    3.90    4.19    3.88   \n",
       "1  ...    3.86   4.80    4.72    4.13    4.03    1.00    3.97    3.82    3.78   \n",
       "2  ...    3.22   3.61    3.80    4.31    3.20    0.60    2.11    2.69    1.97   \n",
       "3  ...    3.74   3.81    3.99    4.21    3.93    0.98    2.24    2.47    2.60   \n",
       "4  ...    5.48   3.04    4.95    4.79    3.52    1.24    3.08    2.44    2.10   \n",
       "\n",
       "   ZW10  \n",
       "0  5.37  \n",
       "1  5.49  \n",
       "2  3.69  \n",
       "3  4.14  \n",
       "4  5.65  \n",
       "\n",
       "[5 rows x 943 columns]"
      ]
     },
     "execution_count": 20,
     "metadata": {},
     "output_type": "execute_result"
    }
   ],
   "source": [
    "rna.head()"
   ]
  },
  {
   "cell_type": "code",
   "execution_count": 21,
   "metadata": {},
   "outputs": [
    {
     "name": "stdout",
     "output_type": "stream",
     "text": [
      "16.96\n",
      "0.0\n"
     ]
    }
   ],
   "source": [
    "print(rna.iloc[:,1:].values.max())\n",
    "print(rna.iloc[:,1:].values.min())"
   ]
  },
  {
   "cell_type": "code",
   "execution_count": null,
   "metadata": {},
   "outputs": [],
   "source": []
  }
 ],
 "metadata": {
  "kernelspec": {
   "display_name": "Python 3",
   "language": "python",
   "name": "python3"
  },
  "language_info": {
   "codemirror_mode": {
    "name": "ipython",
    "version": 3
   },
   "file_extension": ".py",
   "mimetype": "text/x-python",
   "name": "python",
   "nbconvert_exporter": "python",
   "pygments_lexer": "ipython3",
   "version": "3.6.7"
  }
 },
 "nbformat": 4,
 "nbformat_minor": 2
}
